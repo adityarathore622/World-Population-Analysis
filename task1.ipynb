{
  "nbformat": 4,
  "nbformat_minor": 0,
  "metadata": {
    "colab": {
      "private_outputs": true,
      "provenance": [],
      "cell_execution_strategy": "setup"
    },
    "kernelspec": {
      "name": "python3",
      "display_name": "Python 3"
    },
    "language_info": {
      "name": "python"
    }
  },
  "cells": [
    {
      "cell_type": "code",
      "execution_count": null,
      "metadata": {
        "id": "V-VXW70oGaJi"
      },
      "outputs": [],
      "source": [
        "import numpy as np\n",
        "import pandas as pd\n",
        "import google.colab\n"
      ]
    },
    {
      "cell_type": "code",
      "source": [
        "from google.colab import drive\n",
        "drive.mount('/content/drive')"
      ],
      "metadata": {
        "id": "ErIMoAA2H22D"
      },
      "execution_count": null,
      "outputs": []
    },
    {
      "cell_type": "code",
      "source": [
        "from google.colab import files\n",
        "uploaded = files.upload()"
      ],
      "metadata": {
        "id": "Hs6M3Hc9KB-t"
      },
      "execution_count": null,
      "outputs": []
    },
    {
      "cell_type": "code",
      "source": [
        "population_df= pd.read_csv('/content/drive/My Drive/total_poulation.csv')\n",
        "metadata_df = pd.read_csv('/content/drive/My Drive/meta_country.csv')"
      ],
      "metadata": {
        "id": "ysnELvcULqBQ"
      },
      "execution_count": null,
      "outputs": []
    },
    {
      "cell_type": "code",
      "source": [
        "population_df.head()\n"
      ],
      "metadata": {
        "id": "ly0MZAl9NRnS"
      },
      "execution_count": null,
      "outputs": []
    },
    {
      "cell_type": "code",
      "source": [
        "population_df.info()"
      ],
      "metadata": {
        "id": "fypmcgd4TzBQ"
      },
      "execution_count": null,
      "outputs": []
    },
    {
      "cell_type": "code",
      "source": [
        "metadata_df.head()"
      ],
      "metadata": {
        "id": "RNCiGigGU6Xd"
      },
      "execution_count": null,
      "outputs": []
    },
    {
      "cell_type": "code",
      "source": [
        "metadata_df.info()\n"
      ],
      "metadata": {
        "id": "4CgXJWFHVfML"
      },
      "execution_count": null,
      "outputs": []
    },
    {
      "cell_type": "code",
      "source": [
        "population_df = population_df.drop(columns=['Indicator Name', 'Indicator Code','2023']).dropna()\n",
        "metadata_df = metadata_df.drop(columns=['SpecialNotes']).dropna()\n",
        "df =(population_df.merge(metadata_df, on='Country Code')\n",
        ".rename(columns={'Country Name': 'Country', 'IncomeGroup':'Income'}))"
      ],
      "metadata": {
        "id": "Hqz6nj79VnXB"
      },
      "execution_count": null,
      "outputs": []
    },
    {
      "cell_type": "code",
      "source": [
        "df"
      ],
      "metadata": {
        "id": "uUKi-oSaXl22"
      },
      "execution_count": null,
      "outputs": []
    },
    {
      "cell_type": "code",
      "source": [
        "df.to_csv('/content/drive/My Drive/new01.csv')"
      ],
      "metadata": {
        "id": "1jV3X-6AXqGP"
      },
      "execution_count": null,
      "outputs": []
    },
    {
      "cell_type": "code",
      "source": [
        "df.head()"
      ],
      "metadata": {
        "id": "QDo11l5wWVKZ"
      },
      "execution_count": null,
      "outputs": []
    },
    {
      "cell_type": "code",
      "source": [
        "df = df.melt(id_vars=['Country', 'Region', 'Income'],\n",
        " value_vars=[str(year) for year in range(1960, 2023)],\n",
        " var_name='Year',\n",
        " value_name='Population')"
      ],
      "metadata": {
        "id": "15hHslHraE0Q"
      },
      "execution_count": null,
      "outputs": []
    },
    {
      "cell_type": "code",
      "source": [
        "df.to_csv('/content/drive/My Drive/new02.csv')"
      ],
      "metadata": {
        "id": "RYCXDnW5Y_vs"
      },
      "execution_count": null,
      "outputs": []
    },
    {
      "cell_type": "code",
      "source": [
        "df.head()"
      ],
      "metadata": {
        "id": "-O25hkASVAdd"
      },
      "execution_count": null,
      "outputs": []
    },
    {
      "cell_type": "code",
      "source": [
        "df.info()"
      ],
      "metadata": {
        "id": "gLtU7hlEVKUg"
      },
      "execution_count": null,
      "outputs": []
    },
    {
      "cell_type": "code",
      "source": [
        "df.duplicated().sum()"
      ],
      "metadata": {
        "id": "oSfo8R3iVTgR"
      },
      "execution_count": null,
      "outputs": []
    },
    {
      "cell_type": "code",
      "source": [
        "df.isna().sum()"
      ],
      "metadata": {
        "id": "1wmsbHW8Vrty"
      },
      "execution_count": null,
      "outputs": []
    }
  ]
}